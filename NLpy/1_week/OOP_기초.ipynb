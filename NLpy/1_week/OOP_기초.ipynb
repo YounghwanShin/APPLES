{
 "cells": [
  {
   "cell_type": "markdown",
   "metadata": {},
   "source": [
    "클래스를 활용한 계산기 만들기.\n",
    "\n",
    "사용하는 이유: 계산기가 많이 필요할 때, 여러개를 쉽게 정의할 수 있음!"
   ]
  },
  {
   "cell_type": "markdown",
   "metadata": {},
   "source": [
    "Python의 내장 모듈 abc(추상 베이스 클래스)에서 ABCMeta와 abstractmethod를 가져와서 추상 클래스를 구현할 수 있음.\n",
    "\n",
    "randint 함수를 가져와서 랜덤한 숫자를 생성하는 것을 구현함(고유한 계좌 번호 생성에 사용)"
   ]
  },
  {
   "cell_type": "code",
   "execution_count": 3,
   "metadata": {},
   "outputs": [],
   "source": [
    "from abc import ABCMeta, abstractmethod\n",
    "from random import randint "
   ]
  },
  {
   "cell_type": "markdown",
   "metadata": {},
   "source": [
    "클래스 부분을 보자!\n",
    "계산기 틀을 정의할 것이다."
   ]
  },
  {
   "cell_type": "code",
   "execution_count": 4,
   "metadata": {},
   "outputs": [],
   "source": [
    "class Calculator:\n",
    "    #계산할 숫자 2개를 미리 지정함.\n",
    "    def __init__(self, num_1, num_2):\n",
    "        self.num_1 = num_1\n",
    "        self.num_2 = num_2\n",
    "\n",
    "    #더하기 메서드\n",
    "    def add(self):\n",
    "        return self.num_1 + self.num_2\n",
    "    \n",
    "    #빼기 메서드\n",
    "    def subtract(self):\n",
    "        return self.num_1 - self.num_2\n",
    "\n",
    "    #곱하기 메서드\n",
    "    def multiply(self):\n",
    "        return self.num_1 * self.num_2\n",
    "\n",
    "    #나누기 메서드, 0으로 나눌때를 분리\n",
    "    def divide(self):\n",
    "        if self.num_2 == 0:\n",
    "            return \"0으로 나눌 수 없습니다.\"\n",
    "        return self.num_1 / self.num_2\n"
   ]
  },
  {
   "cell_type": "markdown",
   "metadata": {},
   "source": [
    "클래스를 이해 했다면, 위의 코드가 이해됐을 것이다.\n",
    "\n",
    "이제, 입력을 받는 함수를 보도록 하자."
   ]
  },
  {
   "cell_type": "code",
   "execution_count": 5,
   "metadata": {},
   "outputs": [],
   "source": [
    "#인풋 함수, 예외처리 활용\n",
    "def input_val():\n",
    "    # 잘못된 입력을 받았을 때, 계속해서 입력을 받을 수 있도록 무한 루프 준비\n",
    "    while True:\n",
    "        #우선 실행\n",
    "        try:\n",
    "            #매핑 함수\n",
    "            num_1, num_2 = map(int, input('공백으로 구분해서 계산하고자 하는 두 수를 입력하세요: ').split())\n",
    "            #기호를 받음\n",
    "            sign = input('계산 할 연산을 고르시오.\\n더하기 : add\\n빼기 : subtract\\n곱하기 : multiply\\n나누기 : divide\\n')\n",
    "            #만약 기호가 없다면~\n",
    "            if sign not in ['add', 'subtract', 'multiply', 'divide']:\n",
    "                #ValueError를 일부러 일으키기!\n",
    "                raise ValueError\n",
    "            #리턴으로 무한루프 탈출(입력 받은 숫자 두개, 기호 하나를 리턴해줌.)\n",
    "            return num_1, num_2, sign\n",
    "        #만약, ValueError가 발생했다면~\n",
    "        except ValueError:\n",
    "            print(\"잘못된 입력입니다. 다시 시도하세요.\")\n"
   ]
  },
  {
   "cell_type": "markdown",
   "metadata": {},
   "source": [
    "위에서 여러가지로 처음 보는 문법이 아마 많을 것이다.\n",
    "\n",
    "1. 예외 처리 기법\n",
    "예외 처리는 대개, 다음과 같은 구문으로 이루어진다.\n",
    "try ~ except 오류명:\n",
    "(다른 구조도 있지만, 이것이 보편적)\n",
    "try부분에서 오류명에 적힌 오류가 발생했을 때,\n",
    "except 뒤의 코드를 실행시키는 것이다.\n",
    "따라서 raise로 특정 조건일 때, 일부러 오류를 발생시키기도 한다.\n",
    "\n",
    "Q. 그럼 오류명을 다 외워야하나요?\n",
    "\n",
    "A. 아니다. 사실 요즘 외울거는 거의 없다. 구글링이나 GPT를 통해 알아내자. 예외처리 말고도, 무작정 외우며 프로그래밍하는 것은 지양하여야한다! 이렇게 실습하며 하나씩 \"사용방법\"을 익히는 것이 가장 중요하다.\n",
    "\n",
    "2. map함수\n",
    "map(인자1, 인자2)로 구성된다.\n",
    "이때, 인자1은 function이여야하고, 인자2는 iterable해야한다.\n",
    "iterable한 객체의 모든 요소를 순환하며 인자1의 function을 적용해준다.\n",
    "iterable은 반복가능한이라는 뜻으로 대개 리스트나 튜플을 칭한다.\n",
    "따라서 위 예제에서 int로 input 리스트를 순환하며 새 리스트를 만들어준다.\n",
    "지금 이해 못해도 괜찮다. 점점 이해해가자."
   ]
  },
  {
   "cell_type": "code",
   "execution_count": 6,
   "metadata": {},
   "outputs": [],
   "source": [
    "#클래스를 부르는 함수\n",
    "def call_function(calculator, sign):\n",
    "    if sign == 'add':\n",
    "        return calculator.add()\n",
    "    elif sign == 'subtract':\n",
    "        return calculator.subtract()\n",
    "    elif sign == 'multiply':\n",
    "        return calculator.multiply()\n",
    "    elif sign == 'divide':\n",
    "        return calculator.divide()"
   ]
  },
  {
   "cell_type": "markdown",
   "metadata": {},
   "source": [
    "이건 아래 메인 함수와 연결되는 부분인데, 메인 함수에서 계산기 클래스의 인스턴스와 기호를 받아온다.\n",
    "\n",
    "결국 각 기호에 해당되는 메서드의 결과값을 계산기 클래스에서 받아오는 것이다."
   ]
  },
  {
   "cell_type": "code",
   "execution_count": 7,
   "metadata": {},
   "outputs": [],
   "source": [
    "def main():\n",
    "    num_1, num_2, sign = input_val()\n",
    "    calculator = Calculator(num_1, num_2)\n",
    "    result = call_function(calculator, sign)\n",
    "    print(result)"
   ]
  },
  {
   "cell_type": "markdown",
   "metadata": {},
   "source": [
    "메인 함수 부분이다.\n",
    "1. 입력을 input_val()함수를 통해 받아온다.\n",
    "    세부과정: 입력 함수에서 세 값을 return > 이때, 튜플로 return, (num_1,num_2,sign) > 튜플의 특성 중 하나인 자동 언패킹을 활용해 각 변수를 할당해줌\n",
    "\n",
    "2. calculator 객체를 생성함\n",
    "\n",
    "3. calculator 객체와 sign 변수를 인자로 하여 call_function에 보내줌. 이 함수 내에서 각 메서드를 호출함\n",
    "\n",
    "4. 계산기 클래스에서는 생성자에 미리 정의된 값들을 이용해 계산한 후 call_cunction에 리턴해줌\n",
    "\n",
    "5. call_function에서는 다시 그 값을 리턴해줌. 그 후 메인함수의 result 변수에 할당\n",
    "\n",
    "6. 그리고 그 값을 출력함\n",
    "\n",
    "Quiz: 만약 계속해서 입력을 받고 싶으면 어떤 로직을 활용하면 될까?"
   ]
  },
  {
   "cell_type": "code",
   "execution_count": null,
   "metadata": {},
   "outputs": [],
   "source": [
    "if __name__ == '__main__':\n",
    "    main()"
   ]
  },
  {
   "cell_type": "markdown",
   "metadata": {},
   "source": [
    "이 로직은 아마 처음 볼 것이다.\n",
    "\n",
    "나중에 서서히 배우겠지만, 파이썬 파일은 다른 파이썬 파일에서도 작동한다.\n",
    "\n",
    "지금 간단히만 말해주자면, if __name__=='__main__' 구문을 사용하면, 다른 파일에서 실행되는 경우 아래에 적힌 코드는 작동하지 않는다.\n",
    "\n",
    "지금 파일이 main일 경우, 즉, 직접 이 파일을 실행할 경우에만 작동한다."
   ]
  }
 ],
 "metadata": {
  "kernelspec": {
   "display_name": "Python 3",
   "language": "python",
   "name": "python3"
  },
  "language_info": {
   "codemirror_mode": {
    "name": "ipython",
    "version": 3
   },
   "file_extension": ".py",
   "mimetype": "text/x-python",
   "name": "python",
   "nbconvert_exporter": "python",
   "pygments_lexer": "ipython3",
   "version": "3.11.5"
  }
 },
 "nbformat": 4,
 "nbformat_minor": 2
}
