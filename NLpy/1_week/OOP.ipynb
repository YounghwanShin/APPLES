{
 "cells": [
  {
   "cell_type": "markdown",
   "metadata": {},
   "source": [
    "프로그래밍을 할때, 함수 구조로 만들면 좋다.(재사용성, 디버깅에 좋음)\n",
    "이때, 하나의 함수는 하나의 기능만 하게 하는 것이 좋다. (디버깅에 효과적)\n",
    "\n",
    "클래스는 이러한 함수를 재사용하기 쉽게 한 것을 의미한다.\n",
    "클래스 안에 위치한 함수들을 \"메서드\"라고 부른다.\n",
    "클래스는 하나의 공장이라고 생각하면 쉽다. 틀을 미리 만들어 두는 것이다.\n",
    "\n",
    "예시를 들어보겠다.\n",
    "당신은 게임캐릭터를 만들려고 하고 있다.\n",
    "어떻게 만들 것인가?\n",
    "우선 각각의 캐릭터를 정의해주어야한다."
   ]
  },
  {
   "cell_type": "code",
   "execution_count": 3,
   "metadata": {},
   "outputs": [],
   "source": [
    "#공장에서 미리 캐릭터는 항상 기본동작을 가지고 있어야돼!\n",
    "\n",
    "\n",
    "def 캐릭터():\n",
    "    이름='엘트'\n",
    "    성별='중성'\n",
    "    기본동작='앞으로 가기, 뒤로 가기, 옆으로 가기...'\n",
    "    스킬1='때리기'\n",
    "    스킬2='도망치기'\n",
    "\n",
    "def 캐릭터2():\n",
    "    이름='익씨'\n",
    "    성별='중성'\n",
    "    기본동작='앞으로 가기, 뒤로 가기, 옆으로 가기...'\n",
    "    스킬1='말하기'\n",
    "    스킬2='고백공격'\n",
    "\n",
    "def 캐릭터3():\n",
    "    이름='영미문'\n",
    "    성별='중성'\n",
    "    기본동작='앞으로 가기, 뒤로 가기, 옆으로 가기...'\n",
    "    스킬1='때리기'\n",
    "    스킬2='도망치기'\n"
   ]
  },
  {
   "cell_type": "markdown",
   "metadata": {},
   "source": [
    "이렇게 하나하나 만들어 줄 것이다.\n",
    "그런데 캐릭터가 100명이 넘어갈 때, 이렇게 정의를 할 수 있을까?\n",
    "귀찮을뿐더러, 오류가 생기거나 뭘 빼먹으면 어디서 그렇게 된건지 찾기도 힘들다.\n",
    "(지금은 특성만 정의해서 쉬워보이지만 여러 기능들이 추가되면 정말 찾기 어렵다.)\n",
    "\n",
    "그런데, 다시 코드를 보자. 겹치는 것이 꽤 많지 않은가?\n",
    "모두가 동시에 갖고 있는 특성이 존재한다.\n",
    "\n",
    "그럼 다시 설계 과정으로 돌아와서, 우리는 이렇게 생각할 수 있다.\n",
    "'공통적인 틀을 만들고 값을 넣어주기만 하면 되겠네?'\n",
    "그렇다. 우리는 지금부터 캐릭터 공장을 만들면 된다.\n",
    "즉, 공통적인 어떤 것을 자동으로 만들어주는 틀이 곧 Class인 것이다.\n",
    "\n",
    "그럼 다음의 코드로 그 구조를 익혀보도록 하자."
   ]
  },
  {
   "cell_type": "code",
   "execution_count": 4,
   "metadata": {},
   "outputs": [],
   "source": [
    "class 게임캐릭터:\n",
    "    def 기본설정(self,이름,성별): #=> 생성자(__init__)\n",
    "        self.이름=이름\n",
    "        self.성별=성별\n",
    "    \n",
    "    def 기본동작(self):\n",
    "        pass\n",
    "\n",
    "    def 스킬1(self):\n",
    "        pass\n",
    "    \n",
    "    def 스킬2(self):\n",
    "        pass\n",
    "\n",
    "    #등등등"
   ]
  },
  {
   "cell_type": "markdown",
   "metadata": {},
   "source": [
    "틀에서 우리는 크게 두가지를 설정할 수 있다.\n",
    "1. 클래스 변수\n",
    "2. 함수 (기능)\n",
    "\n",
    "함수는 외부에서 만들듯이, 클래스 내에서 def로 선언해주면 된다.\n",
    "\n",
    "클래스 변수는 총 두가지 방법으로 선언이 가능하다.\n",
    "1. 생성자(__init__)에서 선언\n",
    "2. 생성자 바깥에서 선언\n",
    "\n",
    "생성자란, 위에서 기본설정에 속한다.\n",
    "해석하면, \"나 클래스 안에서 이런 변수들을 쓸래\"라는 의미이다.\n",
    "즉, 클래스내에서의 전역변수인 셈이다.\n",
    "C언어를 접해봤다면, 구조체를 접해봤을텐데, 범위만 다르고, 똑같다.\n",
    "\n",
    "생성자에서 정의한 변수는 각 인스턴스에 따라 다르다.\n",
    "인스턴스는 뒤에서 한번 더 나오는데 그때 다시 설명하겠다.\n",
    "\n",
    "2번 방법은 뒤에서 설명하겠다.\n",
    "\n",
    "우선 여기까지 이해했으면, 좋다.\n",
    "바로 다음 내용을 보며 이해를 더 해보자\n",
    "이번엔 클래스로 캐릭터들을 구현해봤다."
   ]
  },
  {
   "cell_type": "code",
   "execution_count": null,
   "metadata": {},
   "outputs": [],
   "source": [
    "class 게임캐릭터:\n",
    "    def __init__(self, 이름, 성별):\n",
    "        self.이름 = 이름 #선언과 동시에 할당\n",
    "        self.성별 = 성별 #선언과 동시에 할당\n",
    "#생성자는 class를 선언하면 자동적으로 인자들이 할당되고 시행된다.\n",
    "#각각의 객체들의 특성.\n",
    "\n",
    "    def 기본동작(self):\n",
    "        print(f\"{self.이름}: 앞으로 가기, 뒤로 가기, 옆으로 가기...\")\n",
    "\n",
    "    def 스킬1(self, 스킬명):\n",
    "        self.스킬1 = 스킬명\n",
    "        print(f\"{self.이름} 스킬1: {스킬명}\")\n",
    "\n",
    "    def 스킬2(self, 스킬명):\n",
    "        self.스킬2 = 스킬명\n",
    "        print(f\"{self.이름} 스킬2: {스킬명}\")\n",
    "\n",
    "# 캐릭터 객체 생성\n",
    "캐릭터1 = 게임캐릭터(\"엘트\", \"중성\")    #self.이름 => 캐릭터1.이름\n",
    "캐릭터2 = 게임캐릭터(\"익씨\", \"중성\")    #self.이름 => 캐릭터2.이름\n",
    "\n",
    "#객체, 인스턴스 \n",
    "#객체: 클래스를 받는 애들, 캐릭터1, 캐릭2\n",
    "#인스턴스: 관계 객체 캐릭터1은 \"캐릭터 클래스의 인스턴스\"\n",
    "\n",
    "# 기본동작과 스킬 설정\n",
    "캐릭터1.기본동작()          #객체.함수(인자)\n",
    "캐릭터1.스킬1(\"때리기\")\n",
    "캐릭터1.스킬2(\"도망치기\")\n",
    "\n",
    "캐릭터2.기본동작()\n",
    "캐릭터2.스킬1(\"말하기\")\n",
    "캐릭터2.스킬2(\"고백공격\")"
   ]
  },
  {
   "cell_type": "markdown",
   "metadata": {},
   "source": [
    "위에서는 __init__으로 캐릭터들의 공통되는 변수(특성)을 정의해주고, 기본 동작이나, 스킬들을 def 함수로 정의해주었다.\n",
    "\n",
    "내부 구조는 그나마 이해가 되었을 것이다.\n",
    "그럼 외부에서 틀로 어떻게 캐릭터를 찍어낼까?\n",
    "\n",
    "위에서 볼 수 있듯이, \"객체 = 클래스명(생성자 인자)\" 로 선언해주면 된다.\n",
    "여기서 중요하게 나오는 개념이 있다.\n",
    "객체와 인스턴스 인데, 객체는 말 그대로 각각의 캐릭터이다.\n",
    "인스턴스는 사실 객체와 거의 유사하다. 그런데, 인스턴스는 객체와 클래스의 관계를 나타낼때 더 사용한다.\n",
    "ex) 캐릭터 1은 게임캐릭터의 인스턴스이고, 캐릭터 1과 캐릭터 2는 객체이다.\n",
    "\n",
    "그리고 클래스 내의 함수를 불러오기 위해선, 다음과 같이 선언하면 된다.\n",
    "\"객체.함수명(함수 인자)\""
   ]
  },
  {
   "cell_type": "code",
   "execution_count": 5,
   "metadata": {},
   "outputs": [],
   "source": [
    "def 함수명(self):\n",
    "    pass"
   ]
  },
  {
   "cell_type": "markdown",
   "metadata": {},
   "source": [
    "그럼 이제 이것이 궁금하다.\n",
    "self는 뭘까?\n",
    "바로 말 그대로 자기 자신을 의미한다.\n",
    "\n",
    "그래서 함수를 선언할때, '.'을 사용해서 self 인자를 보여준다.\n",
    "\n",
    "(self or 객체).(func(인자) or 변수)는 결국 자기 자신을 참고하겠다는 것이다.\n",
    "\n",
    "즉, self에는 각 객체의 특성이 들어간다."
   ]
  },
  {
   "cell_type": "code",
   "execution_count": 6,
   "metadata": {},
   "outputs": [],
   "source": [
    "class A:\n",
    "    pass\n",
    "\n",
    "class B(A):\n",
    "    pass"
   ]
  },
  {
   "cell_type": "markdown",
   "metadata": {},
   "source": [
    "이것은 클래스 상속이다.\n",
    "\n",
    "A 클래스의 모든것을 B 클래스로 사용할 수 있다.\n",
    "\n",
    "가령,"
   ]
  },
  {
   "cell_type": "code",
   "execution_count": 8,
   "metadata": {},
   "outputs": [
    {
     "name": "stdout",
     "output_type": "stream",
     "text": [
      "안녕 1\n",
      "안녕 1\n"
     ]
    }
   ],
   "source": [
    "class A:\n",
    "    def __init__(self,a):\n",
    "        self.변수1=a\n",
    "    \n",
    "    def 함수1(self):\n",
    "        print(\"안녕\",self.변수1)\n",
    "\n",
    "class B(A):\n",
    "    pass\n",
    "\n",
    "a=A(1)\n",
    "b=B(1)\n",
    "\n",
    "a.함수1()\n",
    "#안녕 1\n",
    "b.함수1()\n",
    "#안녕 1\n",
    "\n",
    "#다른 클래스에 이미 있는 거 여기서 다시 쓰고 싶어, 그런데 다시 정의해주기 귀찮아."
   ]
  },
  {
   "cell_type": "markdown",
   "metadata": {},
   "source": [
    "B는 pass로 아무런 기능이 없는 클래스이지만, A의 기능을 상속받아서 b.함수1()을 실행해도 동작하는 것을 볼 수 있다."
   ]
  },
  {
   "cell_type": "code",
   "execution_count": null,
   "metadata": {},
   "outputs": [],
   "source": [
    "class A:\n",
    "    def __init__(self,a):\n",
    "        self.변수1=a\n",
    "    \n",
    "    def 함수1(self):\n",
    "        print(\"안녕\",self.변수1)\n",
    "\n",
    "class B(A):\n",
    "    def 함수1(self):\n",
    "        print(\"안녕하지못해\", self.변수1)\n",
    "\n",
    "#상속받은 클래스에서 함수를 다시 정의하면, 다시정의한 함수로 바뀌어요 => 오버라이딩\n",
    "#원래 만든 클래스에서 쓰고 싶지 않아. 그리고 기능 수정해서 쓰고 싶다. => 오버라이딩 하면 O\n",
    "\n",
    "a=A(1)\n",
    "b=B(1)\n",
    "\n",
    "a.함수1()\n",
    "#안녕 1\n",
    "b.함수1()\n",
    "#안녕하지못해 1"
   ]
  },
  {
   "cell_type": "markdown",
   "metadata": {},
   "source": [
    "이것은 오버라이딩 예시이다. B에 상속받은 A의 함수를 다시 써주는 것을 오버라이딩이라고 한다.\n",
    "그럼 그 기능이 B클래스에서 변한다."
   ]
  },
  {
   "cell_type": "markdown",
   "metadata": {},
   "source": [
    "다음으로 앞서서 설명했던 변수 선언에 대한 보충이다.\n",
    "\n",
    "1. 생성자(__init__)에서 선언\n",
    "생성자 내에서 선언된 변수는 인스턴스 변수라고도 하며, 각 객체 인스턴스별로 독립적인 값을 가진다."
   ]
  },
  {
   "cell_type": "code",
   "execution_count": null,
   "metadata": {},
   "outputs": [],
   "source": [
    "class MyClass:\n",
    "    def __init__(self, value):\n",
    "        self.instance_variable = value"
   ]
  },
  {
   "cell_type": "markdown",
   "metadata": {},
   "source": [
    "2. 생성자 바깥에서 선언\n",
    "생성자 바깥에서 선언된 변수는 클래스 변수라고 하며, 클래스에 속한 모든 인스턴스가 공유하는 변수이다.\n",
    "클래스 변수는 클래스 내부와 외부에서 클래스명.변수명으로 접근할 수 있다."
   ]
  },
  {
   "cell_type": "code",
   "execution_count": 6,
   "metadata": {},
   "outputs": [],
   "source": [
    "class MyClass:\n",
    "    class_variable = \"공유값\"\n",
    "\n",
    "    def __init__(self, value):\n",
    "        self.instance_variable = value"
   ]
  },
  {
   "cell_type": "markdown",
   "metadata": {},
   "source": [
    "클래스 변수와 인스턴스 변수의 차이점\n",
    "클래스 변수는 클래스의 모든 인스턴스 간에 공유되는 값이다. 클래스 변수의 값이 변경되면, 모든 인스턴스에 반영된다.\n",
    "반면, 인스턴스 변수는 클래스의 각 인스턴스에 속한 변수로, 각 인스턴스마다 독립적인 값을 가진다."
   ]
  },
  {
   "cell_type": "code",
   "execution_count": 7,
   "metadata": {},
   "outputs": [
    {
     "name": "stdout",
     "output_type": "stream",
     "text": [
      "['roll over', 'play dead']\n",
      "['roll over', 'play dead']\n"
     ]
    }
   ],
   "source": [
    "class Dog:\n",
    "    tricks = []  # 클래스 변수 (모든 인스턴스/객체에서 공유)\n",
    "    #리스트 선언\n",
    "\n",
    "    def __init__(self, name):\n",
    "        self.name = name  # 인스턴스 변수 => 각각의 객체가 가지는 고유한 값을 정의한다.\n",
    "    #변수 name 선언\n",
    "\n",
    "    def add_trick(self, trick):\n",
    "        self.tricks.append(trick)  # 클래스 변수에 접근\n",
    "    #trick이라는 애를 인자로 받고, tricks라는 리스트에 추가하겠다. (append 추가하다 -> 리스트의 끝에 추가하겠다.)\n",
    "    #tricks=[] => tricks=[trick]\n",
    "\n",
    "d = Dog('Fido')\n",
    "#self.name = Fido\n",
    "e = Dog('Buddy')\n",
    "#self.name = Buddy\n",
    "d.add_trick('roll over')\n",
    "#tricks=[] => tricks=[roll over]\n",
    "e.add_trick('play dead')\n",
    "#tricks=[roll over] => tricks=[roll over, play dead]\n",
    "\n",
    "print(d.tricks)  # ['roll over', 'play dead'] 출력\n",
    "print(e.tricks)  # ['roll over', 'play dead'] 출력"
   ]
  },
  {
   "cell_type": "markdown",
   "metadata": {},
   "source": [
    "지금까지가 클래스의 기초중에서도 기초이다.\n",
    "그럼 이제부터 실습을 해보자."
   ]
  }
 ],
 "metadata": {
  "kernelspec": {
   "display_name": "Python 3",
   "language": "python",
   "name": "python3"
  },
  "language_info": {
   "codemirror_mode": {
    "name": "ipython",
    "version": 3
   },
   "file_extension": ".py",
   "mimetype": "text/x-python",
   "name": "python",
   "nbconvert_exporter": "python",
   "pygments_lexer": "ipython3",
   "version": "3.11.5"
  }
 },
 "nbformat": 4,
 "nbformat_minor": 2
}
